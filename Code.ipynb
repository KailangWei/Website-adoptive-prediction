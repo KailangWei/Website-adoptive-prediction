{
 "cells": [
  {
   "cell_type": "markdown",
   "metadata": {},
   "source": [
    "# Set up"
   ]
  },
  {
   "cell_type": "code",
   "execution_count": 1,
   "metadata": {},
   "outputs": [],
   "source": [
    "import pandas as pd\n",
    "import numpy as np\n",
    "\n",
    "%matplotlib inline\n",
    "import matplotlib.pyplot as plt\n",
    "import pylab as pl\n",
    "from matplotlib.colors import ListedColormap\n",
    "import seaborn as sns\n",
    "import itertools\n",
    "from itertools import combinations\n",
    "\n",
    "import warnings\n",
    "\n",
    "from sklearn.utils import resample\n",
    "from sklearn.metrics import accuracy_score \n",
    "from sklearn.metrics import classification_report \n",
    "from sklearn.metrics import confusion_matrix\n",
    "from sklearn.model_selection import GridSearchCV, KFold, cross_val_score \n",
    "from xgboost.sklearn import XGBClassifier\n",
    "from lightgbm.sklearn import LGBMClassifier\n",
    "from sklearn.ensemble import RandomForestClassifier\n",
    "from sklearn.preprocessing import StandardScaler\n",
    "from sklearn.model_selection import cross_val_score\n",
    "from sklearn.base import clone\n",
    "from sklearn.preprocessing import LabelEncoder\n",
    "from sklearn.model_selection import train_test_split\n",
    "from sklearn.model_selection import learning_curve \n",
    "from sklearn.model_selection import ShuffleSplit\n",
    "from sklearn.model_selection import validation_curve\n",
    "from sklearn.metrics import roc_curve\n",
    "from sklearn.metrics import auc\n",
    "from sklearn import preprocessing\n",
    "\n",
    "import xgboost as xgb\n",
    "import lightgbm as lgb\n",
    "\n",
    "np.random.seed(42)"
   ]
  },
  {
   "cell_type": "markdown",
   "metadata": {},
   "source": [
    "# Import data"
   ]
  },
  {
   "cell_type": "code",
   "execution_count": 2,
   "metadata": {},
   "outputs": [
    {
     "data": {
      "text/html": [
       "<div>\n",
       "<style scoped>\n",
       "    .dataframe tbody tr th:only-of-type {\n",
       "        vertical-align: middle;\n",
       "    }\n",
       "\n",
       "    .dataframe tbody tr th {\n",
       "        vertical-align: top;\n",
       "    }\n",
       "\n",
       "    .dataframe thead th {\n",
       "        text-align: right;\n",
       "    }\n",
       "</style>\n",
       "<table border=\"1\" class=\"dataframe\">\n",
       "  <thead>\n",
       "    <tr style=\"text-align: right;\">\n",
       "      <th></th>\n",
       "      <th>age</th>\n",
       "      <th>male</th>\n",
       "      <th>friend_cnt</th>\n",
       "      <th>avg_friend_age</th>\n",
       "      <th>avg_friend_male</th>\n",
       "      <th>friend_country_cnt</th>\n",
       "      <th>subscriber_friend_cnt</th>\n",
       "      <th>songsListened</th>\n",
       "      <th>lovedTracks</th>\n",
       "      <th>posts</th>\n",
       "      <th>...</th>\n",
       "      <th>delta_songsListened</th>\n",
       "      <th>delta_lovedTracks</th>\n",
       "      <th>delta_posts</th>\n",
       "      <th>delta_playlists</th>\n",
       "      <th>delta_shouts</th>\n",
       "      <th>tenure</th>\n",
       "      <th>good_country</th>\n",
       "      <th>delta_good_country</th>\n",
       "      <th>adopter</th>\n",
       "      <th>user_id</th>\n",
       "    </tr>\n",
       "  </thead>\n",
       "  <tbody>\n",
       "    <tr>\n",
       "      <th>0</th>\n",
       "      <td>24</td>\n",
       "      <td>0</td>\n",
       "      <td>20</td>\n",
       "      <td>26.333333</td>\n",
       "      <td>0.777778</td>\n",
       "      <td>6</td>\n",
       "      <td>0</td>\n",
       "      <td>37804</td>\n",
       "      <td>4</td>\n",
       "      <td>20</td>\n",
       "      <td>...</td>\n",
       "      <td>54</td>\n",
       "      <td>0</td>\n",
       "      <td>0</td>\n",
       "      <td>0</td>\n",
       "      <td>0</td>\n",
       "      <td>79</td>\n",
       "      <td>0</td>\n",
       "      <td>0</td>\n",
       "      <td>0</td>\n",
       "      <td>10</td>\n",
       "    </tr>\n",
       "    <tr>\n",
       "      <th>1</th>\n",
       "      <td>29</td>\n",
       "      <td>1</td>\n",
       "      <td>12</td>\n",
       "      <td>26.900000</td>\n",
       "      <td>0.818182</td>\n",
       "      <td>6</td>\n",
       "      <td>1</td>\n",
       "      <td>15955</td>\n",
       "      <td>19</td>\n",
       "      <td>4</td>\n",
       "      <td>...</td>\n",
       "      <td>802</td>\n",
       "      <td>0</td>\n",
       "      <td>0</td>\n",
       "      <td>0</td>\n",
       "      <td>1</td>\n",
       "      <td>80</td>\n",
       "      <td>0</td>\n",
       "      <td>0</td>\n",
       "      <td>0</td>\n",
       "      <td>58</td>\n",
       "    </tr>\n",
       "    <tr>\n",
       "      <th>2</th>\n",
       "      <td>22</td>\n",
       "      <td>0</td>\n",
       "      <td>4</td>\n",
       "      <td>21.000000</td>\n",
       "      <td>1.000000</td>\n",
       "      <td>2</td>\n",
       "      <td>0</td>\n",
       "      <td>31441</td>\n",
       "      <td>7</td>\n",
       "      <td>0</td>\n",
       "      <td>...</td>\n",
       "      <td>0</td>\n",
       "      <td>0</td>\n",
       "      <td>0</td>\n",
       "      <td>0</td>\n",
       "      <td>0</td>\n",
       "      <td>53</td>\n",
       "      <td>0</td>\n",
       "      <td>0</td>\n",
       "      <td>0</td>\n",
       "      <td>72</td>\n",
       "    </tr>\n",
       "    <tr>\n",
       "      <th>3</th>\n",
       "      <td>27</td>\n",
       "      <td>0</td>\n",
       "      <td>1</td>\n",
       "      <td>29.000000</td>\n",
       "      <td>1.000000</td>\n",
       "      <td>1</td>\n",
       "      <td>0</td>\n",
       "      <td>0</td>\n",
       "      <td>0</td>\n",
       "      <td>0</td>\n",
       "      <td>...</td>\n",
       "      <td>0</td>\n",
       "      <td>0</td>\n",
       "      <td>0</td>\n",
       "      <td>0</td>\n",
       "      <td>0</td>\n",
       "      <td>59</td>\n",
       "      <td>0</td>\n",
       "      <td>0</td>\n",
       "      <td>0</td>\n",
       "      <td>121</td>\n",
       "    </tr>\n",
       "    <tr>\n",
       "      <th>4</th>\n",
       "      <td>22</td>\n",
       "      <td>1</td>\n",
       "      <td>4</td>\n",
       "      <td>21.250000</td>\n",
       "      <td>0.750000</td>\n",
       "      <td>1</td>\n",
       "      <td>0</td>\n",
       "      <td>774</td>\n",
       "      <td>0</td>\n",
       "      <td>0</td>\n",
       "      <td>...</td>\n",
       "      <td>0</td>\n",
       "      <td>0</td>\n",
       "      <td>0</td>\n",
       "      <td>0</td>\n",
       "      <td>0</td>\n",
       "      <td>60</td>\n",
       "      <td>0</td>\n",
       "      <td>0</td>\n",
       "      <td>0</td>\n",
       "      <td>137</td>\n",
       "    </tr>\n",
       "  </tbody>\n",
       "</table>\n",
       "<p>5 rows × 27 columns</p>\n",
       "</div>"
      ],
      "text/plain": [
       "   age  male  friend_cnt  avg_friend_age  avg_friend_male  friend_country_cnt  \\\n",
       "0   24     0          20       26.333333         0.777778                   6   \n",
       "1   29     1          12       26.900000         0.818182                   6   \n",
       "2   22     0           4       21.000000         1.000000                   2   \n",
       "3   27     0           1       29.000000         1.000000                   1   \n",
       "4   22     1           4       21.250000         0.750000                   1   \n",
       "\n",
       "   subscriber_friend_cnt  songsListened  lovedTracks  posts  ...  \\\n",
       "0                      0          37804            4     20  ...   \n",
       "1                      1          15955           19      4  ...   \n",
       "2                      0          31441            7      0  ...   \n",
       "3                      0              0            0      0  ...   \n",
       "4                      0            774            0      0  ...   \n",
       "\n",
       "   delta_songsListened  delta_lovedTracks  delta_posts  delta_playlists  \\\n",
       "0                   54                  0            0                0   \n",
       "1                  802                  0            0                0   \n",
       "2                    0                  0            0                0   \n",
       "3                    0                  0            0                0   \n",
       "4                    0                  0            0                0   \n",
       "\n",
       "   delta_shouts  tenure  good_country  delta_good_country  adopter  user_id  \n",
       "0             0      79             0                   0        0       10  \n",
       "1             1      80             0                   0        0       58  \n",
       "2             0      53             0                   0        0       72  \n",
       "3             0      59             0                   0        0      121  \n",
       "4             0      60             0                   0        0      137  \n",
       "\n",
       "[5 rows x 27 columns]"
      ]
     },
     "execution_count": 2,
     "metadata": {},
     "output_type": "execute_result"
    }
   ],
   "source": [
    "df = pd.read_excel('C:/Users/14702/OneDrive/Desktop/Emory/Machine Learning II/Assignment#4/training data.xlsx')\n",
    "# show the first 5 rows of the dataset\n",
    "df.head()"
   ]
  },
  {
   "cell_type": "code",
   "execution_count": 3,
   "metadata": {},
   "outputs": [
    {
     "name": "stdout",
     "output_type": "stream",
     "text": [
      "0    85142\n",
      "1     1540\n",
      "Name: adopter, dtype: int64\n"
     ]
    }
   ],
   "source": [
    "# It's an inbalanced dataset\n",
    "print(df.adopter.value_counts())"
   ]
  },
  {
   "cell_type": "code",
   "execution_count": 4,
   "metadata": {},
   "outputs": [
    {
     "name": "stdout",
     "output_type": "stream",
     "text": [
      "1    85142\n",
      "0    85142\n",
      "Name: adopter, dtype: int64\n"
     ]
    },
    {
     "data": {
      "text/html": [
       "<div>\n",
       "<style scoped>\n",
       "    .dataframe tbody tr th:only-of-type {\n",
       "        vertical-align: middle;\n",
       "    }\n",
       "\n",
       "    .dataframe tbody tr th {\n",
       "        vertical-align: top;\n",
       "    }\n",
       "\n",
       "    .dataframe thead th {\n",
       "        text-align: right;\n",
       "    }\n",
       "</style>\n",
       "<table border=\"1\" class=\"dataframe\">\n",
       "  <thead>\n",
       "    <tr style=\"text-align: right;\">\n",
       "      <th></th>\n",
       "      <th>age</th>\n",
       "      <th>male</th>\n",
       "      <th>friend_cnt</th>\n",
       "      <th>avg_friend_age</th>\n",
       "      <th>avg_friend_male</th>\n",
       "      <th>friend_country_cnt</th>\n",
       "      <th>subscriber_friend_cnt</th>\n",
       "      <th>songsListened</th>\n",
       "      <th>lovedTracks</th>\n",
       "      <th>posts</th>\n",
       "      <th>...</th>\n",
       "      <th>delta_songsListened</th>\n",
       "      <th>delta_lovedTracks</th>\n",
       "      <th>delta_posts</th>\n",
       "      <th>delta_playlists</th>\n",
       "      <th>delta_shouts</th>\n",
       "      <th>tenure</th>\n",
       "      <th>good_country</th>\n",
       "      <th>delta_good_country</th>\n",
       "      <th>adopter</th>\n",
       "      <th>user_id</th>\n",
       "    </tr>\n",
       "  </thead>\n",
       "  <tbody>\n",
       "    <tr>\n",
       "      <th>65306</th>\n",
       "      <td>23</td>\n",
       "      <td>1</td>\n",
       "      <td>6</td>\n",
       "      <td>24.4</td>\n",
       "      <td>0.666667</td>\n",
       "      <td>2</td>\n",
       "      <td>0</td>\n",
       "      <td>11963</td>\n",
       "      <td>14</td>\n",
       "      <td>0</td>\n",
       "      <td>...</td>\n",
       "      <td>2076</td>\n",
       "      <td>0</td>\n",
       "      <td>0</td>\n",
       "      <td>0</td>\n",
       "      <td>0</td>\n",
       "      <td>38</td>\n",
       "      <td>1</td>\n",
       "      <td>0</td>\n",
       "      <td>1</td>\n",
       "      <td>1288636</td>\n",
       "    </tr>\n",
       "    <tr>\n",
       "      <th>82912</th>\n",
       "      <td>18</td>\n",
       "      <td>1</td>\n",
       "      <td>1</td>\n",
       "      <td>28.0</td>\n",
       "      <td>1.000000</td>\n",
       "      <td>1</td>\n",
       "      <td>0</td>\n",
       "      <td>20609</td>\n",
       "      <td>21</td>\n",
       "      <td>0</td>\n",
       "      <td>...</td>\n",
       "      <td>14705</td>\n",
       "      <td>1</td>\n",
       "      <td>0</td>\n",
       "      <td>0</td>\n",
       "      <td>0</td>\n",
       "      <td>5</td>\n",
       "      <td>1</td>\n",
       "      <td>0</td>\n",
       "      <td>1</td>\n",
       "      <td>1636899</td>\n",
       "    </tr>\n",
       "    <tr>\n",
       "      <th>52115</th>\n",
       "      <td>28</td>\n",
       "      <td>1</td>\n",
       "      <td>11</td>\n",
       "      <td>26.5</td>\n",
       "      <td>0.555556</td>\n",
       "      <td>5</td>\n",
       "      <td>0</td>\n",
       "      <td>28559</td>\n",
       "      <td>127</td>\n",
       "      <td>2</td>\n",
       "      <td>...</td>\n",
       "      <td>2563</td>\n",
       "      <td>4</td>\n",
       "      <td>0</td>\n",
       "      <td>0</td>\n",
       "      <td>1</td>\n",
       "      <td>57</td>\n",
       "      <td>1</td>\n",
       "      <td>0</td>\n",
       "      <td>1</td>\n",
       "      <td>1026354</td>\n",
       "    </tr>\n",
       "    <tr>\n",
       "      <th>74316</th>\n",
       "      <td>24</td>\n",
       "      <td>1</td>\n",
       "      <td>58</td>\n",
       "      <td>24.0</td>\n",
       "      <td>0.791667</td>\n",
       "      <td>15</td>\n",
       "      <td>3</td>\n",
       "      <td>58531</td>\n",
       "      <td>1316</td>\n",
       "      <td>3</td>\n",
       "      <td>...</td>\n",
       "      <td>1558</td>\n",
       "      <td>1</td>\n",
       "      <td>0</td>\n",
       "      <td>0</td>\n",
       "      <td>0</td>\n",
       "      <td>48</td>\n",
       "      <td>0</td>\n",
       "      <td>0</td>\n",
       "      <td>1</td>\n",
       "      <td>1466854</td>\n",
       "    </tr>\n",
       "    <tr>\n",
       "      <th>65524</th>\n",
       "      <td>35</td>\n",
       "      <td>1</td>\n",
       "      <td>3</td>\n",
       "      <td>28.5</td>\n",
       "      <td>0.000000</td>\n",
       "      <td>1</td>\n",
       "      <td>0</td>\n",
       "      <td>25551</td>\n",
       "      <td>44</td>\n",
       "      <td>15</td>\n",
       "      <td>...</td>\n",
       "      <td>1480</td>\n",
       "      <td>1</td>\n",
       "      <td>0</td>\n",
       "      <td>0</td>\n",
       "      <td>0</td>\n",
       "      <td>73</td>\n",
       "      <td>0</td>\n",
       "      <td>0</td>\n",
       "      <td>1</td>\n",
       "      <td>1293189</td>\n",
       "    </tr>\n",
       "  </tbody>\n",
       "</table>\n",
       "<p>5 rows × 27 columns</p>\n",
       "</div>"
      ],
      "text/plain": [
       "       age  male  friend_cnt  avg_friend_age  avg_friend_male  \\\n",
       "65306   23     1           6            24.4         0.666667   \n",
       "82912   18     1           1            28.0         1.000000   \n",
       "52115   28     1          11            26.5         0.555556   \n",
       "74316   24     1          58            24.0         0.791667   \n",
       "65524   35     1           3            28.5         0.000000   \n",
       "\n",
       "       friend_country_cnt  subscriber_friend_cnt  songsListened  lovedTracks  \\\n",
       "65306                   2                      0          11963           14   \n",
       "82912                   1                      0          20609           21   \n",
       "52115                   5                      0          28559          127   \n",
       "74316                  15                      3          58531         1316   \n",
       "65524                   1                      0          25551           44   \n",
       "\n",
       "       posts  ...  delta_songsListened  delta_lovedTracks  delta_posts  \\\n",
       "65306      0  ...                 2076                  0            0   \n",
       "82912      0  ...                14705                  1            0   \n",
       "52115      2  ...                 2563                  4            0   \n",
       "74316      3  ...                 1558                  1            0   \n",
       "65524     15  ...                 1480                  1            0   \n",
       "\n",
       "       delta_playlists  delta_shouts  tenure  good_country  \\\n",
       "65306                0             0      38             1   \n",
       "82912                0             0       5             1   \n",
       "52115                0             1      57             1   \n",
       "74316                0             0      48             0   \n",
       "65524                0             0      73             0   \n",
       "\n",
       "       delta_good_country  adopter  user_id  \n",
       "65306                   0        1  1288636  \n",
       "82912                   0        1  1636899  \n",
       "52115                   0        1  1026354  \n",
       "74316                   0        1  1466854  \n",
       "65524                   0        1  1293189  \n",
       "\n",
       "[5 rows x 27 columns]"
      ]
     },
     "execution_count": 4,
     "metadata": {},
     "output_type": "execute_result"
    }
   ],
   "source": [
    "# split 1&0 data\n",
    "data_0 = df[df['adopter'] == 0]\n",
    "data_1 = df[df['adopter'] == 1]\n",
    "\n",
    "# resample the minority dataset\n",
    "data_1_upsample = resample(data_1,replace=True,n_samples=data_0.shape[0],random_state=42) \n",
    " \n",
    "# combine two datasets back together\n",
    "df_resample = pd.concat([data_1_upsample, data_0])\n",
    " \n",
    "# show the new dataset\n",
    "print(df_resample.adopter.value_counts())\n",
    "df_resample.head()"
   ]
  },
  {
   "cell_type": "code",
   "execution_count": 9,
   "metadata": {},
   "outputs": [],
   "source": [
    "# retrieving attributes\n",
    "y = df_resample.values[:,-2]\n",
    "X = df_resample.values[:,:-2]\n",
    "\n",
    "# normalization \n",
    "# sc = StandardScaler()\n",
    "# sc.fit(X)\n",
    "# X = sc.transform(X)"
   ]
  },
  {
   "cell_type": "code",
   "execution_count": 10,
   "metadata": {},
   "outputs": [],
   "source": [
    "# Split train and test data\n",
    "X_train, X_test, y_train, y_test = train_test_split(X, y, test_size=0.20, random_state=42)"
   ]
  },
  {
   "cell_type": "code",
   "execution_count": 49,
   "metadata": {},
   "outputs": [],
   "source": [
    "df_test = pd.read_excel('C:/Users/14702/OneDrive/Desktop/Emory/Machine Learning II/Assignment#4/test data.xlsx')\n",
    "# show the first 5 rows of the dataset\n",
    "df_test.head()\n",
    "# retrieving predictive variables\n",
    "X_pred = df_test.values[:,:-1]"
   ]
  },
  {
   "cell_type": "code",
   "execution_count": 11,
   "metadata": {},
   "outputs": [],
   "source": [
    "# we want to use cross validation to tuning parameters\n",
    "inner_cv = KFold(n_splits=5, shuffle=True,random_state=42)\n",
    "outer_cv = KFold(n_splits=5, shuffle=True,random_state=42)"
   ]
  },
  {
   "cell_type": "code",
   "execution_count": 8,
   "metadata": {},
   "outputs": [],
   "source": [
    "# plot confusion matrix\n",
    "def plot_confusion_matrix(cm, classes,\n",
    "                          normalize=False,\n",
    "                          title='Confusion matrix',\n",
    "                          cmap=plt.cm.Blues):\n",
    "    \"\"\"\n",
    "    This function prints and plots the confusion matrix.\n",
    "    Normalization can be applied by setting `normalize=True`.\n",
    "    \"\"\"\n",
    "    if normalize:\n",
    "        cm = cm.astype('float') / cm.sum(axis=1)[:, np.newaxis]\n",
    "        print(\"Normalized confusion matrix\")\n",
    "    else:\n",
    "        print('Confusion matrix, without normalization')\n",
    "\n",
    "    print(cm)\n",
    "\n",
    "    plt.imshow(cm, interpolation='nearest', cmap=cmap)\n",
    "    plt.title(title)\n",
    "    plt.colorbar()\n",
    "    tick_marks = np.arange(len(classes))\n",
    "    plt.xticks(tick_marks, classes, rotation=45)\n",
    "    plt.yticks(tick_marks, classes)\n",
    "\n",
    "    fmt = '.2f' if normalize else 'd'\n",
    "    thresh = cm.max() / 2.\n",
    "    for i, j in itertools.product(range(cm.shape[0]), range(cm.shape[1])):\n",
    "        plt.text(j, i, format(cm[i, j], fmt),\n",
    "                 horizontalalignment=\"center\",\n",
    "                 color=\"white\" if cm[i, j] > thresh else \"black\")\n",
    "\n",
    "    plt.tight_layout()\n",
    "    plt.ylabel('True label')\n",
    "    plt.xlabel('Predicted label')\n",
    "    \n",
    "# Function to calculate accuracy and plot confusion matrix \n",
    "def cal_accuracy(y_test, y_pred): \n",
    "      \n",
    "    print (\"Accuracy : \", \n",
    "    accuracy_score(y_test,y_pred)*100) \n",
    "      \n",
    "    print(\"Report : \", \n",
    "    classification_report(y_test, y_pred)) \n",
    "    \n",
    "    cnf_matrix = confusion_matrix(y_test, y_pred)\n",
    "    np.set_printoptions(precision=2)\n",
    "\n",
    "    cnf_matrix = confusion_matrix(y_test, y_pred)\n",
    "    \n",
    "    # Plot non-normalized confusion matrix\n",
    "    plt.figure()\n",
    "    plot_confusion_matrix(cnf_matrix,classes=[\"1\",\"0\"],\n",
    "                      title='Confusion matrix, without normalization')\n",
    "    \n",
    "    # Plot normalized confusion matrix\n",
    "    plt.figure()\n",
    "    plot_confusion_matrix(cnf_matrix, classes=[\"1\",\"0\"], normalize=True,\n",
    "                      title='Normalized confusion matrix')\n",
    "    \n",
    "    plt.show()"
   ]
  },
  {
   "cell_type": "markdown",
   "metadata": {},
   "source": [
    "# XGBoost"
   ]
  },
  {
   "cell_type": "code",
   "execution_count": 13,
   "metadata": {},
   "outputs": [
    {
     "name": "stdout",
     "output_type": "stream",
     "text": [
      "XGBoost Parameter Tuning\n",
      "Non-nested CV F1-score:  0.959695232065527\n",
      "Optimal Parameter:  {'max_depth': 9, 'min_child_weight': 5}\n",
      "Optimal Estimator:  XGBClassifier(base_score=0.5, booster='gbtree', colsample_bylevel=1,\n",
      "       colsample_bynode=1, colsample_bytree=1, gamma=0, learning_rate=0.1,\n",
      "       max_delta_step=0, max_depth=9, min_child_weight=5, missing=None,\n",
      "       n_estimators=100, n_jobs=1, nthread=None,\n",
      "       objective='binary:logistic', random_state=0, reg_alpha=0,\n",
      "       reg_lambda=1, scale_pos_weight=1, seed=42, silent=None, subsample=1,\n",
      "       verbosity=1)\n"
     ]
    }
   ],
   "source": [
    "########################################## XGBoost ##################################################\n",
    "\n",
    "# Parameter tuning: 'max_depth' and 'min_child_weight'\n",
    "\n",
    "param_test = {\n",
    " 'max_depth':range(3,10,2),\n",
    " 'min_child_weight':range(1,6,2)\n",
    "}\n",
    "\n",
    "gs_xgb = GridSearchCV(\n",
    "    estimator = XGBClassifier(seed=42), \n",
    "    param_grid = param_test, \n",
    "    scoring='f1',\n",
    "    cv=inner_cv,\n",
    "    n_jobs=-1)\n",
    "\n",
    "gs_xgb = gs_xgb.fit(X_train,y_train)  \n",
    "print(\"XGBoost Parameter Tuning\")\n",
    "print(\"Non-nested CV F1-score: \", gs_xgb.best_score_)\n",
    "print(\"Optimal Parameter: \", gs_xgb.best_params_)\n",
    "print(\"Optimal Estimator: \", gs_xgb.best_estimator_) "
   ]
  },
  {
   "cell_type": "code",
   "execution_count": 14,
   "metadata": {},
   "outputs": [
    {
     "name": "stdout",
     "output_type": "stream",
     "text": [
      "XGBoost Parameter Tuning\n",
      "Non-nested CV F1-score:  0.9740735845549127\n",
      "Optimal Parameter:  {'max_depth': 10, 'min_child_weight': 5}\n",
      "Optimal Estimator:  XGBClassifier(base_score=0.5, booster='gbtree', colsample_bylevel=1,\n",
      "       colsample_bynode=1, colsample_bytree=1, gamma=0, learning_rate=0.1,\n",
      "       max_delta_step=0, max_depth=10, min_child_weight=5, missing=None,\n",
      "       n_estimators=100, n_jobs=1, nthread=None,\n",
      "       objective='binary:logistic', random_state=0, reg_alpha=0,\n",
      "       reg_lambda=1, scale_pos_weight=1, seed=42, silent=None, subsample=1,\n",
      "       verbosity=1)\n"
     ]
    }
   ],
   "source": [
    "########################################## XGBoost ##################################################\n",
    "\n",
    "# Parameter tuning: 'max_depth' and 'min_child_weight'\n",
    "\n",
    "param_test = {\n",
    " 'max_depth':[8,9,10],\n",
    " 'min_child_weight':[4,5,6]\n",
    "}\n",
    "\n",
    "gs_xgb = GridSearchCV(\n",
    "    estimator = XGBClassifier(seed=42), \n",
    "    param_grid = param_test, \n",
    "    scoring='f1',\n",
    "    cv=inner_cv,\n",
    "    n_jobs=-1)\n",
    "\n",
    "gs_xgb = gs_xgb.fit(X_train,y_train)  \n",
    "print(\"XGBoost Parameter Tuning\")\n",
    "print(\"Non-nested CV F1-score: \", gs_xgb.best_score_)\n",
    "print(\"Optimal Parameter: \", gs_xgb.best_params_)\n",
    "print(\"Optimal Estimator: \", gs_xgb.best_estimator_) "
   ]
  },
  {
   "cell_type": "code",
   "execution_count": 15,
   "metadata": {},
   "outputs": [
    {
     "name": "stdout",
     "output_type": "stream",
     "text": [
      "XGBoost Parameter Tuning\n",
      "Non-nested CV F1-score:  0.9746116508928809\n",
      "Optimal Parameter:  {'gamma': 0.4}\n",
      "Optimal Estimator:  XGBClassifier(base_score=0.5, booster='gbtree', colsample_bylevel=1,\n",
      "       colsample_bynode=1, colsample_bytree=1, gamma=0.4,\n",
      "       learning_rate=0.1, max_delta_step=0, max_depth=10,\n",
      "       min_child_weight=5, missing=None, n_estimators=100, n_jobs=1,\n",
      "       nthread=None, objective='binary:logistic', random_state=0,\n",
      "       reg_alpha=0, reg_lambda=1, scale_pos_weight=1, seed=42, silent=None,\n",
      "       subsample=1, verbosity=1)\n"
     ]
    }
   ],
   "source": [
    "########################################## XGBoost ##################################################\n",
    "\n",
    "# Parameter tuning: 'max_depth' and 'min_child_weight'\n",
    "\n",
    "param_test = {\n",
    "'gamma':[i/10.0 for i in range(0,5)]\n",
    "}\n",
    "\n",
    "gs_xgb = GridSearchCV(\n",
    "    estimator = XGBClassifier(max_depth=10, min_child_weight=5, seed=42), \n",
    "    param_grid = param_test, \n",
    "    scoring='f1',\n",
    "    cv=inner_cv,\n",
    "    n_jobs=-1)\n",
    "\n",
    "gs_xgb = gs_xgb.fit(X_train,y_train)  \n",
    "print(\"XGBoost Parameter Tuning\")\n",
    "print(\"Non-nested CV F1-score: \", gs_xgb.best_score_)\n",
    "print(\"Optimal Parameter: \", gs_xgb.best_params_)\n",
    "print(\"Optimal Estimator: \", gs_xgb.best_estimator_) "
   ]
  },
  {
   "cell_type": "code",
   "execution_count": 20,
   "metadata": {},
   "outputs": [
    {
     "name": "stdout",
     "output_type": "stream",
     "text": [
      "Accuracy :  97.28983762515783\n",
      "Report :                precision    recall  f1-score   support\n",
      "\n",
      "         0.0       1.00      0.95      0.97     17106\n",
      "         1.0       0.95      1.00      0.97     16951\n",
      "\n",
      "   micro avg       0.97      0.97      0.97     34057\n",
      "   macro avg       0.97      0.97      0.97     34057\n",
      "weighted avg       0.97      0.97      0.97     34057\n",
      "\n",
      "Confusion matrix, without normalization\n",
      "[[16189   917]\n",
      " [    6 16945]]\n",
      "Normalized confusion matrix\n",
      "[[9.46e-01 5.36e-02]\n",
      " [3.54e-04 1.00e+00]]\n"
     ]
    },
    {
     "data": {
      "image/png": "[encoded data removed]",
      "text/plain": [
       "<Figure size 432x288 with 2 Axes>"
      ]
     },
     "metadata": {
      "needs_background": "light"
     },
     "output_type": "display_data"
    },
    {
     "data": {
      "image/png": "[encoded data removed]",
      "text/plain": [
       "<Figure size 432x288 with 2 Axes>"
      ]
     },
     "metadata": {
      "needs_background": "light"
     },
     "output_type": "display_data"
    },
    {
     "name": "stdout",
     "output_type": "stream",
     "text": [
      "None\n"
     ]
    }
   ],
   "source": [
    "# make prediction on test dataset\n",
    "y_pred = gs_xgb.predict(X_test) \n",
    "\n",
    "# calculate accuracy and plot confusion matrix\n",
    "print(cal_accuracy(y_test, y_pred))  "
   ]
  },
  {
   "cell_type": "code",
   "execution_count": 21,
   "metadata": {},
   "outputs": [
    {
     "data": {
      "text/plain": [
       "0.9453399604151815"
      ]
     },
     "execution_count": 21,
     "metadata": {},
     "output_type": "execute_result"
    }
   ],
   "source": [
    "# get generalized performance for further comparation\n",
    "f1_score = cross_val_score(gs_xgb.best_estimator_, X_test, y_test, cv=outer_cv, scoring='f1')\n",
    "np.mean(f1_score)"
   ]
  },
  {
   "cell_type": "code",
   "execution_count": 25,
   "metadata": {},
   "outputs": [],
   "source": [
    "# make a final prediction\n",
    "y_pred = gs_xgb.best_estimator_.predict(X_pred) \n",
    "\n",
    "y_pred = y_pred.astype('int64')"
   ]
  },
  {
   "cell_type": "markdown",
   "metadata": {},
   "source": [
    "# LightGBM"
   ]
  },
  {
   "cell_type": "code",
   "execution_count": 16,
   "metadata": {},
   "outputs": [
    {
     "name": "stdout",
     "output_type": "stream",
     "text": [
      "LightGBM Parameter Tuning\n",
      "Non-nested CV F1-score:  0.9103947075770751\n",
      "Optimal Parameter:  {'max_depth': 7, 'num_leaves': 140}\n",
      "Optimal Estimator:  LGBMClassifier(boosting_type='gbdt', class_weight=None, colsample_bytree=1.0,\n",
      "        importance_type='split', learning_rate=0.1, max_depth=7,\n",
      "        min_child_samples=20, min_child_weight=0.001, min_split_gain=0.0,\n",
      "        n_estimators=100, n_jobs=-1, num_leaves=140, objective=None,\n",
      "        random_state=None, reg_alpha=0.0, reg_lambda=0.0, seed=42,\n",
      "        silent=True, subsample=1.0, subsample_for_bin=200000,\n",
      "        subsample_freq=0)\n"
     ]
    }
   ],
   "source": [
    "########################################## LightGBM ##################################################\n",
    "\n",
    "# Parameter tuning: 'max_depth' and 'num_leaves'\n",
    "\n",
    "warnings.filterwarnings('ignore')\n",
    "\n",
    "param_test = {\n",
    "    'max_depth': range(3,8,2),\n",
    "    'num_leaves':range(50,170,30)\n",
    "}\n",
    "\n",
    "gs_lgb = GridSearchCV(\n",
    "    estimator = LGBMClassifier(seed=42), \n",
    "    param_grid = param_test, \n",
    "    scoring='f1',\n",
    "    cv=inner_cv)\n",
    "\n",
    "gs_lgb = gs_lgb.fit(X_train,y_train)  \n",
    "print(\"LightGBM Parameter Tuning\")\n",
    "print(\"Non-nested CV F1-score: \", gs_lgb.best_score_)\n",
    "print(\"Optimal Parameter: \", gs_lgb.best_params_)\n",
    "print(\"Optimal Estimator: \", gs_lgb.best_estimator_) "
   ]
  },
  {
   "cell_type": "code",
   "execution_count": 17,
   "metadata": {},
   "outputs": [
    {
     "name": "stdout",
     "output_type": "stream",
     "text": [
      "LightGBM Parameter Tuning\n",
      "Non-nested CV F1-score:  0.956540876490158\n",
      "Optimal Parameter:  {'max_depth': 9, 'num_leaves': 150}\n",
      "Optimal Estimator:  LGBMClassifier(boosting_type='gbdt', class_weight=None, colsample_bytree=1.0,\n",
      "        importance_type='split', learning_rate=0.1, max_depth=9,\n",
      "        min_child_samples=20, min_child_weight=0.001, min_split_gain=0.0,\n",
      "        n_estimators=100, n_jobs=-1, num_leaves=150, objective=None,\n",
      "        random_state=None, reg_alpha=0.0, reg_lambda=0.0, seed=42,\n",
      "        silent=True, subsample=1.0, subsample_for_bin=200000,\n",
      "        subsample_freq=0)\n"
     ]
    }
   ],
   "source": [
    "########################################## LightGBM ##################################################\n",
    "\n",
    "# Parameter tuning: 'max_depth' and 'num_leaves'\n",
    "\n",
    "warnings.filterwarnings('ignore')\n",
    "\n",
    "param_test = {\n",
    "     'max_depth': [6,7,8,9],\n",
    "    'num_leaves':(130,150,2)\n",
    "}\n",
    "\n",
    "gs_lgb = GridSearchCV(\n",
    "    estimator = LGBMClassifier(seed=42), \n",
    "    param_grid = param_test, \n",
    "    scoring='f1',\n",
    "    cv=inner_cv)\n",
    "\n",
    "gs_lgb = gs_lgb.fit(X_train,y_train)  \n",
    "print(\"LightGBM Parameter Tuning\")\n",
    "print(\"Non-nested CV F1-score: \", gs_lgb.best_score_)\n",
    "print(\"Optimal Parameter: \", gs_lgb.best_params_)\n",
    "print(\"Optimal Estimator: \", gs_lgb.best_estimator_) "
   ]
  },
  {
   "cell_type": "code",
   "execution_count": 19,
   "metadata": {},
   "outputs": [
    {
     "name": "stdout",
     "output_type": "stream",
     "text": [
      "LightGBM Parameter Tuning\n",
      "Non-nested CV F1-score:  0.9594218377276339\n",
      "Optimal Parameter:  {'min_child_samples': 22, 'min_child_weight': 0.001}\n",
      "Optimal Estimator:  LGBMClassifier(boosting_type='gbdt', class_weight=None, colsample_bytree=1.0,\n",
      "        importance_type='split', learning_rate=0.1, max_depth=9,\n",
      "        min_child_samples=22, min_child_weight=0.001, min_split_gain=0.0,\n",
      "        n_estimators=100, n_jobs=-1, num_leaves=150, objective=None,\n",
      "        random_state=None, reg_alpha=0.0, reg_lambda=0.0, seed=42,\n",
      "        silent=True, subsample=1.0, subsample_for_bin=200000,\n",
      "        subsample_freq=0)\n"
     ]
    }
   ],
   "source": [
    "########################################## LightGBM ##################################################\n",
    "\n",
    "# Parameter tuning: 'max_depth' and 'num_leaves'\n",
    "\n",
    "warnings.filterwarnings('ignore')\n",
    "\n",
    "param_test = {\n",
    "    'min_child_samples': [22, 23, 24, 25, 26],\n",
    "    'min_child_weight':[0.001, 0.002]\n",
    "}\n",
    "\n",
    "gs_lgb = GridSearchCV(\n",
    "    estimator = LGBMClassifier(max_depth=9, num_leaves=150, seed=42), \n",
    "    param_grid = param_test, \n",
    "    scoring='f1',\n",
    "    cv=inner_cv)\n",
    "\n",
    "gs_lgb = gs_lgb.fit(X_train,y_train)  \n",
    "print(\"LightGBM Parameter Tuning\")\n",
    "print(\"Non-nested CV F1-score: \", gs_lgb.best_score_)\n",
    "print(\"Optimal Parameter: \", gs_lgb.best_params_)\n",
    "print(\"Optimal Estimator: \", gs_lgb.best_estimator_) "
   ]
  },
  {
   "cell_type": "code",
   "execution_count": 30,
   "metadata": {},
   "outputs": [
    {
     "name": "stdout",
     "output_type": "stream",
     "text": [
      "Accuracy :  95.69251548873947\n",
      "Report :                precision    recall  f1-score   support\n",
      "\n",
      "         0.0       0.99      0.92      0.96     17106\n",
      "         1.0       0.92      0.99      0.96     16951\n",
      "\n",
      "   micro avg       0.96      0.96      0.96     34057\n",
      "   macro avg       0.96      0.96      0.96     34057\n",
      "weighted avg       0.96      0.96      0.96     34057\n",
      "\n",
      "Confusion matrix, without normalization\n",
      "[[15736  1370]\n",
      " [   97 16854]]\n",
      "Normalized confusion matrix\n",
      "[[0.92 0.08]\n",
      " [0.01 0.99]]\n"
     ]
    },
    {
     "data": {
      "image/png": "[encoded data removed]",
      "text/plain": [
       "<Figure size 432x288 with 2 Axes>"
      ]
     },
     "metadata": {
      "needs_background": "light"
     },
     "output_type": "display_data"
    },
    {
     "data": {
      "image/png": "[encoded data removed]",
      "text/plain": [
       "<Figure size 432x288 with 2 Axes>"
      ]
     },
     "metadata": {
      "needs_background": "light"
     },
     "output_type": "display_data"
    },
    {
     "name": "stdout",
     "output_type": "stream",
     "text": [
      "None\n"
     ]
    }
   ],
   "source": [
    "# make prediction on test dataset\n",
    "y_pred = gs_lgb.predict(X_test) \n",
    "\n",
    "# calculate accuracy and plot confusion matrix\n",
    "print(cal_accuracy(y_test, y_pred))  "
   ]
  },
  {
   "cell_type": "code",
   "execution_count": 31,
   "metadata": {},
   "outputs": [
    {
     "data": {
      "text/plain": [
       "0.9378526672923476"
      ]
     },
     "execution_count": 31,
     "metadata": {},
     "output_type": "execute_result"
    }
   ],
   "source": [
    "# get generalized performance for further comparation\n",
    "f1_score = cross_val_score(gs_lgb.best_estimator_, X_test, y_test, cv=outer_cv, scoring='f1')\n",
    "np.mean(f1_score)"
   ]
  },
  {
   "cell_type": "code",
   "execution_count": 32,
   "metadata": {},
   "outputs": [],
   "source": [
    "# make a final prediction\n",
    "y_pred = gs_lgb.best_estimator_.predict(X_pred) \n",
    "\n",
    "y_pred = y_pred.astype('int64')"
   ]
  },
  {
   "cell_type": "markdown",
   "metadata": {},
   "source": [
    "# Random Forest"
   ]
  },
  {
   "cell_type": "code",
   "execution_count": 37,
   "metadata": {},
   "outputs": [
    {
     "name": "stdout",
     "output_type": "stream",
     "text": [
      "Random Forest Parameter Tuning\n",
      "Non-nested CV F1-score:  0.9409602065127706\n",
      "Optimal Parameter:  {'max_depth': 13, 'min_samples_split': 50, 'n_estimators': 60}\n",
      "Optimal Estimator:  RandomForestClassifier(bootstrap=True, class_weight=None, criterion='gini',\n",
      "            max_depth=13, max_features='auto', max_leaf_nodes=None,\n",
      "            min_impurity_decrease=0.0, min_impurity_split=None,\n",
      "            min_samples_leaf=1, min_samples_split=50,\n",
      "            min_weight_fraction_leaf=0.0, n_estimators=60, n_jobs=None,\n",
      "            oob_score=False, random_state=42, verbose=0, warm_start=False)\n"
     ]
    }
   ],
   "source": [
    "########################################## Random Forest ##################################################\n",
    "\n",
    "# Parameter tuning: 'n_estimators', 'max_depth' and 'min_samples_split'\n",
    "\n",
    "warnings.filterwarnings('ignore')\n",
    "\n",
    "param_test = {\n",
    "    'n_estimators':range(10,71,10),\n",
    "    'max_depth':range(3,14,2), \n",
    "    'min_samples_split':range(50,201,20)\n",
    "}\n",
    "\n",
    "gs_rf = GridSearchCV(\n",
    "    estimator = RandomForestClassifier(random_state=42), \n",
    "    param_grid = param_test, \n",
    "    scoring='f1',\n",
    "    cv=inner_cv)\n",
    "\n",
    "gs_rf = gs_rf.fit(X_train,y_train)  \n",
    "print(\"Random Forest Parameter Tuning\")\n",
    "print(\"Non-nested CV F1-score: \", gs_rf.best_score_)\n",
    "print(\"Optimal Parameter: \", gs_rf.best_params_)\n",
    "print(\"Optimal Estimator: \", gs_rf.best_estimator_) "
   ]
  },
  {
   "cell_type": "code",
   "execution_count": 38,
   "metadata": {},
   "outputs": [
    {
     "name": "stdout",
     "output_type": "stream",
     "text": [
      "Random Forest Parameter Tuning\n",
      "Non-nested CV F1-score:  0.9811916357635053\n",
      "Optimal Parameter:  {'max_depth': 17, 'min_samples_split': 30}\n",
      "Optimal Estimator:  RandomForestClassifier(bootstrap=True, class_weight=None, criterion='gini',\n",
      "            max_depth=17, max_features='auto', max_leaf_nodes=None,\n",
      "            min_impurity_decrease=0.0, min_impurity_split=None,\n",
      "            min_samples_leaf=1, min_samples_split=30,\n",
      "            min_weight_fraction_leaf=0.0, n_estimators=60, n_jobs=None,\n",
      "            oob_score=False, random_state=42, verbose=0, warm_start=False)\n"
     ]
    }
   ],
   "source": [
    "########################################## Random Forest ##################################################\n",
    "\n",
    "# Parameter tuning: 'max_depth' and 'min_samples_split'\n",
    "\n",
    "warnings.filterwarnings('ignore')\n",
    "\n",
    "param_test = {\n",
    "    'max_depth':[12,13,14,15,16,17], \n",
    "    'min_samples_split': range(30,50,2)\n",
    "}\n",
    "\n",
    "gs_rf = GridSearchCV(\n",
    "    estimator = RandomForestClassifier(n_estimators = 60, random_state=42), \n",
    "    param_grid = param_test, \n",
    "    scoring='f1',\n",
    "    cv=inner_cv)\n",
    "\n",
    "gs_rf = gs_rf.fit(X_train,y_train)  \n",
    "print(\"Random Forest Parameter Tuning\")\n",
    "print(\"Non-nested CV F1-score: \", gs_rf.best_score_)\n",
    "print(\"Optimal Parameter: \", gs_rf.best_params_)\n",
    "print(\"Optimal Estimator: \", gs_rf.best_estimator_) "
   ]
  },
  {
   "cell_type": "code",
   "execution_count": 39,
   "metadata": {},
   "outputs": [
    {
     "name": "stdout",
     "output_type": "stream",
     "text": [
      "Random Forest Parameter Tuning\n",
      "Non-nested CV F1-score:  0.9823365082502469\n",
      "Optimal Parameter:  {'max_features': 3}\n",
      "Optimal Estimator:  RandomForestClassifier(bootstrap=True, class_weight=None, criterion='gini',\n",
      "            max_depth=17, max_features=3, max_leaf_nodes=None,\n",
      "            min_impurity_decrease=0.0, min_impurity_split=None,\n",
      "            min_samples_leaf=1, min_samples_split=30,\n",
      "            min_weight_fraction_leaf=0.0, n_estimators=60, n_jobs=None,\n",
      "            oob_score=False, random_state=42, verbose=0, warm_start=False)\n"
     ]
    }
   ],
   "source": [
    "########################################## Random Forest ##################################################\n",
    "\n",
    "# Parameter tuning: 'max_features'\n",
    "\n",
    "warnings.filterwarnings('ignore')\n",
    "\n",
    "param_test = {\n",
    "    'max_features':range(3,11,2)\n",
    "}\n",
    "\n",
    "gs_rf = GridSearchCV(\n",
    "    estimator = RandomForestClassifier(max_depth = 17, min_samples_split = 30, n_estimators = 60, random_state=42), \n",
    "    param_grid = param_test, \n",
    "    scoring='f1',\n",
    "    cv=inner_cv)\n",
    "\n",
    "gs_rf = gs_rf.fit(X_train,y_train)  \n",
    "print(\"Random Forest Parameter Tuning\")\n",
    "print(\"Non-nested CV F1-score: \", gs_rf.best_score_)\n",
    "print(\"Optimal Parameter: \", gs_rf.best_params_)\n",
    "print(\"Optimal Estimator: \", gs_rf.best_estimator_) "
   ]
  },
  {
   "cell_type": "code",
   "execution_count": 40,
   "metadata": {},
   "outputs": [
    {
     "name": "stdout",
     "output_type": "stream",
     "text": [
      "Accuracy :  98.38799659394545\n",
      "Report :                precision    recall  f1-score   support\n",
      "\n",
      "         0.0       1.00      0.97      0.98     17106\n",
      "         1.0       0.97      1.00      0.98     16951\n",
      "\n",
      "   micro avg       0.98      0.98      0.98     34057\n",
      "   macro avg       0.98      0.98      0.98     34057\n",
      "weighted avg       0.98      0.98      0.98     34057\n",
      "\n",
      "Confusion matrix, without normalization\n",
      "[[16568   538]\n",
      " [   11 16940]]\n",
      "Normalized confusion matrix\n",
      "[[9.69e-01 3.15e-02]\n",
      " [6.49e-04 9.99e-01]]\n"
     ]
    },
    {
     "data": {
      "image/png": "[encoded data removed]",
      "text/plain": [
       "<Figure size 432x288 with 2 Axes>"
      ]
     },
     "metadata": {
      "needs_background": "light"
     },
     "output_type": "display_data"
    },
    {
     "data": {
      "image/png": "[encoded data removed]",
      "text/plain": [
       "<Figure size 432x288 with 2 Axes>"
      ]
     },
     "metadata": {
      "needs_background": "light"
     },
     "output_type": "display_data"
    },
    {
     "name": "stdout",
     "output_type": "stream",
     "text": [
      "None\n"
     ]
    }
   ],
   "source": [
    "# make prediction on test dataset\n",
    "y_pred = gs_rf.predict(X_test) \n",
    "\n",
    "# calculate accuracy and plot confusion matrix\n",
    "print(cal_accuracy(y_test, y_pred))  "
   ]
  },
  {
   "cell_type": "code",
   "execution_count": 41,
   "metadata": {},
   "outputs": [
    {
     "data": {
      "text/plain": [
       "0.9369809644946928"
      ]
     },
     "execution_count": 41,
     "metadata": {},
     "output_type": "execute_result"
    }
   ],
   "source": [
    "# get generalized performance for further comparation\n",
    "f1_score = cross_val_score(gs_rf.best_estimator_, X_test, y_test, cv=outer_cv, scoring='f1')\n",
    "np.mean(f1_score)"
   ]
  },
  {
   "cell_type": "code",
   "execution_count": 42,
   "metadata": {},
   "outputs": [],
   "source": [
    "# make a final prediction\n",
    "y_pred = gs_rf.best_estimator_.predict(X_pred) \n",
    "\n",
    "y_pred = y_pred.astype('int64')"
   ]
  },
  {
   "cell_type": "markdown",
   "metadata": {},
   "source": [
    "# Compare three models"
   ]
  },
  {
   "cell_type": "code",
   "execution_count": 46,
   "metadata": {},
   "outputs": [
    {
     "name": "stdout",
     "output_type": "stream",
     "text": [
      "ROC AUC: 0.999 (+/- 0.000) [XGBoost]\n",
      "ROC AUC: 0.995 (+/- 0.001) [LightGBM]\n",
      "ROC AUC: 1.000 (+/- 0.000) [Random Forest]\n"
     ]
    },
    {
     "data": {
      "image/png": "[encoded data removed]",
      "text/plain": [
       "<Figure size 432x288 with 1 Axes>"
      ]
     },
     "metadata": {
      "needs_background": "light"
     },
     "output_type": "display_data"
    }
   ],
   "source": [
    "# Label the classifiers\n",
    "clf_labels = ['XGBoost', 'LightGBM','Random Forest']\n",
    "all_clf = [gs_xgb.best_estimator_, gs_lgb.best_estimator_, gs_rf.best_estimator_]\n",
    "\n",
    "# calculate AUC\n",
    "for clf, label in zip([gs_xgb.best_estimator_, gs_lgb.best_estimator_, gs_rf.best_estimator_], clf_labels): #For all classifiers \n",
    "    scores = cross_val_score(estimator=clf,  #Estimate AUC based on cross validation\n",
    "                             X=X,\n",
    "                             y=y,\n",
    "                             cv=5,\n",
    "                             scoring='roc_auc')\n",
    "    print(\"ROC AUC: %0.3f (+/- %0.3f) [%s]\" #Print peformance statistics based on cross-validation\n",
    "          % (scores.mean(), scores.std(), label))\n",
    "\n",
    "# visualization   \n",
    "colors = [ 'orange', 'blue', 'green']      # Colors for visualization\n",
    "linestyles = [':', '--', '-.', '-']        # Line styles for visualization\n",
    "for clf, label, clr, ls in zip(all_clf,\n",
    "               clf_labels, colors, linestyles):\n",
    "\n",
    "    # Assuming the label of the positive class is 1 and data is normalized\n",
    "    clf = clf.fit(X_train,y_train)\n",
    "    y_pred = clf.predict(X_test) \n",
    "    \n",
    "    fpr, tpr, thresholds = roc_curve(y_true=y_test, # Build ROC curve\n",
    "                                     y_score=y_pred)\n",
    "    roc_auc = auc(x=fpr, y=tpr)                # Compute Area Under the Curve (AUC) \n",
    "    plt.plot(fpr, tpr,                         # Plot ROC Curve and create label with AUC values\n",
    "             color=clr,\n",
    "             linestyle=ls,\n",
    "             label='%s (auc = %0.3f)' % (label, roc_auc))\n",
    "\n",
    "plt.legend(loc='lower right')    # Where to place the legend\n",
    "plt.plot([0, 1], [0, 1], # Visualize random classifier\n",
    "         linestyle='--',\n",
    "         color='gray',\n",
    "         linewidth=2)\n",
    "\n",
    "plt.xlim([-0.1, 1.1])   #limits for x axis\n",
    "plt.ylim([-0.1, 1.1])   #limits for y axis\n",
    "plt.grid(alpha=0.5)\n",
    "plt.xlabel('False positive rate (FPR)')\n",
    "plt.ylabel('True positive rate (TPR)')\n",
    "\n",
    "plt.show()\n",
    "\n",
    "# According to generalized performance and ROC-AUC score, I decided to use Random Forest as my final model"
   ]
  },
  {
   "cell_type": "markdown",
   "metadata": {},
   "source": [
    "# Make Final Prediction"
   ]
  },
  {
   "cell_type": "code",
   "execution_count": 47,
   "metadata": {},
   "outputs": [],
   "source": [
    "# Random Forest prediction\n",
    "y_pred = gs_rf.best_estimator_.predict(X_pred) \n",
    "y_pred = y_pred.astype('int64')"
   ]
  },
  {
   "cell_type": "code",
   "execution_count": 48,
   "metadata": {},
   "outputs": [],
   "source": [
    "# Write the outcomes\n",
    "\n",
    "df_pred = pd.DataFrame(y_pred)\n",
    "\n",
    "user_id = df_test[['user_id']].values\n",
    "user_id = user_id.astype('float')\n",
    "user_id = pd.DataFrame(user_id)\n",
    "\n",
    "df_pred = pd.concat( [user_id, df_pred], axis=1 )\n",
    "df_pred.columns = ['user_id','prediction(adopter)']\n",
    "\n",
    "df_pred.dtypes\n",
    "\n",
    "# export predictions \n",
    "df_pred.to_csv('C:/Users/14702/OneDrive/Desktop/Emory/Machine Learning II/Assignment#4/predictions.csv',index=False)"
   ]
  },
  {
   "cell_type": "code",
   "execution_count": 43,
   "metadata": {},
   "outputs": [
    {
     "data": {
      "text/plain": [
       "2901"
      ]
     },
     "execution_count": 43,
     "metadata": {},
     "output_type": "execute_result"
    }
   ],
   "source": [
    "sum(y_pred)"
   ]
  }
 ],
 "metadata": {
  "kernelspec": {
   "display_name": "Python 3",
   "language": "python",
   "name": "python3"
  },
  "language_info": {
   "codemirror_mode": {
    "name": "ipython",
    "version": 3
   },
   "file_extension": ".py",
   "mimetype": "text/x-python",
   "name": "python",
   "nbconvert_exporter": "python",
   "pygments_lexer": "ipython3",
   "version": "3.7.3"
  }
 },
 "nbformat": 4,
 "nbformat_minor": 2
}
